{
 "cells": [
  {
   "metadata": {
    "ExecuteTime": {
     "end_time": "2025-06-13T17:49:15.445599Z",
     "start_time": "2025-06-13T17:49:10.701634Z"
    }
   },
   "cell_type": "code",
   "source": [
    "import numpy as np\n",
    "import pandas as pd\n",
    "from sklearn.impute import SimpleImputer\n",
    "\n",
    "# Load the dataset\n",
    "df = pd.read_csv('Most-Recent-Cohorts-Institution_05192025.csv', low_memory=False)"
   ],
   "outputs": [],
   "execution_count": 17
  },
  {
   "metadata": {
    "ExecuteTime": {
     "end_time": "2025-06-13T17:49:15.544597Z",
     "start_time": "2025-06-13T17:49:15.517618Z"
    }
   },
   "cell_type": "code",
   "source": "df.shape",
   "outputs": [
    {
     "data": {
      "text/plain": [
       "(6429, 3306)"
      ]
     },
     "execution_count": 18,
     "metadata": {},
     "output_type": "execute_result"
    }
   ],
   "execution_count": 18
  },
  {
   "cell_type": "code",
   "metadata": {
    "ExecuteTime": {
     "end_time": "2025-06-13T17:49:15.608110Z",
     "start_time": "2025-06-13T17:49:15.598470Z"
    }
   },
   "source": [
    "# Defining the columns to keep\n",
    "keep_cols = [\n",
    "    'UNITID',\n",
    "    'UGDS',\n",
    "    'ADM_RATE',\n",
    "    'SATVRMID', 'SATMTMID', 'SATWRMID',\n",
    "    'ACTCMMID', 'ACTENMID', 'ACTMTMID', 'ACTWRMID',\n",
    "    'RET_FT4', 'RET_FTL4',\n",
    "    'C150_4', 'C150_L4',\n",
    "    'ENRL_ORIG_YR2_RT', 'COMP_ORIG_YR2_RT', 'WDRAW_ORIG_YR2_RT',\n",
    "    'ENRL_ORIG_YR3_RT', 'COMP_ORIG_YR3_RT', 'WDRAW_ORIG_YR3_RT',\n",
    "    'ENRL_ORIG_YR4_RT', 'COMP_ORIG_YR4_RT', 'WDRAW_ORIG_YR4_RT',\n",
    "    'INSTNM',\n",
    "]"
   ],
   "outputs": [],
   "execution_count": 19
  },
  {
   "metadata": {
    "ExecuteTime": {
     "end_time": "2025-06-13T17:49:15.679246Z",
     "start_time": "2025-06-13T17:49:15.658486Z"
    }
   },
   "cell_type": "code",
   "source": [
    "# Subset the DataFrame\n",
    "clean_df = df[keep_cols].copy()"
   ],
   "outputs": [],
   "execution_count": 20
  },
  {
   "metadata": {
    "ExecuteTime": {
     "end_time": "2025-06-13T17:49:15.737852Z",
     "start_time": "2025-06-13T17:49:15.715004Z"
    }
   },
   "cell_type": "code",
   "source": "clean_df.shape",
   "outputs": [
    {
     "data": {
      "text/plain": [
       "(6429, 24)"
      ]
     },
     "execution_count": 21,
     "metadata": {},
     "output_type": "execute_result"
    }
   ],
   "execution_count": 21
  },
  {
   "metadata": {
    "ExecuteTime": {
     "end_time": "2025-06-13T17:49:15.874976Z",
     "start_time": "2025-06-13T17:49:15.806165Z"
    }
   },
   "cell_type": "code",
   "source": [
    "# Compute, per‐row, the fraction of nulls\n",
    "null_frac = clean_df.isna().mean(axis=1)\n",
    "\n",
    "# Keep only rows with ≤ 90% nulls\n",
    "clean_df = clean_df[null_frac <= 0.90].copy()\n",
    "clean_df.replace(\"PS\", np.nan, inplace=True)\n",
    "\n",
    "# Split out numeric vs non-numeric\n",
    "numeric_cols = clean_df.select_dtypes(include=[np.number]).columns\n",
    "non_numeric_cols = clean_df.columns.difference(numeric_cols)\n",
    "\n",
    "num_imputer = SimpleImputer(strategy='median')\n",
    "clean_df[numeric_cols] = num_imputer.fit_transform(clean_df[numeric_cols])\n",
    "\n",
    "cat_imputer = SimpleImputer(strategy='most_frequent')\n",
    "clean_df[non_numeric_cols] = cat_imputer.fit_transform(clean_df[non_numeric_cols])\n",
    "\n",
    "print(f\"Rows remaining: {len(clean_df)}\")\n",
    "print(\"Any nulls left?\", clean_df.isna().any().any())"
   ],
   "outputs": [
    {
     "name": "stdout",
     "output_type": "stream",
     "text": [
      "Rows remaining: 6355\n",
      "Any nulls left? False\n"
     ]
    }
   ],
   "execution_count": 22
  },
  {
   "cell_type": "code",
   "metadata": {
    "ExecuteTime": {
     "end_time": "2025-06-13T17:49:16.061234Z",
     "start_time": "2025-06-13T17:49:15.905039Z"
    }
   },
   "source": [
    "# Show resulting shape\n",
    "print(f\"\\nOriginal shape: {df.shape}\")\n",
    "print(f\"Cleaned shape:  {clean_df.shape}\")\n",
    "\n",
    "# Save cleaned DataFrame\n",
    "clean_df.to_csv('Most-Recent-Cohorts-Cleaned.csv', index=False)"
   ],
   "outputs": [
    {
     "name": "stdout",
     "output_type": "stream",
     "text": [
      "\n",
      "Original shape: (6429, 3306)\n",
      "Cleaned shape:  (6355, 24)\n"
     ]
    }
   ],
   "execution_count": 23
  },
  {
   "cell_type": "code",
   "metadata": {
    "ExecuteTime": {
     "end_time": "2025-06-13T17:49:16.161127Z",
     "start_time": "2025-06-13T17:49:16.153522Z"
    }
   },
   "source": [],
   "outputs": [],
   "execution_count": null
  }
 ],
 "metadata": {
  "kernelspec": {
   "display_name": "Python 3",
   "language": "python",
   "name": "python3"
  },
  "language_info": {
   "name": "python",
   "version": "3.13.3"
  }
 },
 "nbformat": 4,
 "nbformat_minor": 2
}
